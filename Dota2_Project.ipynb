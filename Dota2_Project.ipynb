{
  "nbformat": 4,
  "nbformat_minor": 0,
  "metadata": {
    "colab": {
      "provenance": [],
      "authorship_tag": "ABX9TyPAYZ3Zz/44QY/ZkwsZXHCI",
      "include_colab_link": true
    },
    "kernelspec": {
      "name": "python3",
      "display_name": "Python 3"
    },
    "language_info": {
      "name": "python"
    }
  },
  "cells": [
    {
      "cell_type": "markdown",
      "metadata": {
        "id": "view-in-github",
        "colab_type": "text"
      },
      "source": [
        "<a href=\"https://colab.research.google.com/github/HaTruong05/Dota-2-Esports/blob/main/Dota2_Project.ipynb\" target=\"_parent\"><img src=\"https://colab.research.google.com/assets/colab-badge.svg\" alt=\"Open In Colab\"/></a>"
      ]
    },
    {
      "cell_type": "markdown",
      "source": [
        "# CSC-233: Data Analytics\n",
        "## Ha Truong\n",
        "\n",
        "## Final Project: Dota 2 Esports"
      ],
      "metadata": {
        "id": "Zbq8vucfLlSx"
      }
    },
    {
      "cell_type": "markdown",
      "source": [
        "## 1. Topic and Questions\n",
        "\n",
        "My topic is Dota 2 Esports. Dota 2 is a popular multiplayer online battle arena video game. The game has an extremely active competitive scene with some of the highest prize pools offered in Esports and features multiple global scale tournaments throughout the year. As such, many professional players have earned a great deal from tournament prize pools alone, becoming young millionaires before the age of 30.\n",
        "\n",
        "Using the readily available player and tournament data, I will attempt to answer the following questions and provide more insight into the Dota 2 Esports scene. The questions are:\n",
        "\n",
        "1. How many people out of the top 1000 players (in terms of in-game ranked matchmaking rating) actually make it into the pro scene?\n",
        "2. Out of the currently active professional players, how many are signed with a team?\n",
        "3. While the top-performing players can earn a lot of prize money, does it hold up for the average professional player?\n",
        "4. What region has won the most tier 1 tournaments?\n",
        "5. What region has won the most prize money based on team earnings?\n",
        "6. What region has won the most The Internationals?\n",
        "\n",
        "In answering these questions, I hope to find the answer to two main questions:\n",
        "\n",
        "1. How plausible is it to become a professional Dota 2 player and is it as appealing as most people think?\n",
        "2. What region has the best Dota 2 competitive scene?\n",
        "\n",
        "I also have some bonus questions that don't contribute to the other two main questions above that I still want to answer.\n",
        "\n",
        "1. What region has won the most prize money based on individual earnings?\n",
        "2. Does the pattern of tournament earnings I observe in question 3 occur in other Esports as well?\n",
        "\n",
        "\n",
        "**NOTE**\n",
        "\n",
        "1. The Dota 2 Esports scene is divided into 6 main regions: North America (NA), South America (SA), Europe (EU), China (CN), South East Asia (SEA), and Commonwealth of Independent States (CIS), which consists of mainly Russian players. Questions 4-6 are for determining which region out of the 6 listed here is the most accomplished in competitive Dota 2.\n",
        "\n",
        "2. Dota 2 tournaments are divided into 4 tiers, from tier 1 to tier 4. Tier 1 tournaments are the most competitive, has the highest prize pools, and feature top teams from all around the world. Tier 2 tournaments are usually regional events or qualifiers for tier 1 events. Tier 3 tournaments are also regional events but have smaller prize pools. Tier 4 tournaments are small-scale events with the lowest prize pools. For my analysis, I will only use data from tier 1 tournaments as they are global-scaled events, and I want to know which region is the best when it comes to competitive Dota 2.\n",
        "\n",
        "3. The International (TI) is the biggest, most prestigious Dota 2 event that happens once per year. Past TIs have featured prize pools in the millions, with the largest one having a prize pool of 40 million USD, setting the record for the largest prize pool of any single esports event."
      ],
      "metadata": {
        "id": "wx0z7L_VL-nA"
      }
    },
    {
      "cell_type": "markdown",
      "source": [
        "## 2. Data\n",
        "1. [Top player earnings](https://liquipedia.net/dota2/Portal:Statistics/Player_earnings)\n",
        "2. [Top team earnings](https://liquipedia.net/dota2/Portal:Statistics/Team_earnings)\n",
        "3. [In-game world leaderboards for each region](https://www.dota2.com/leaderboards)\n",
        "4. [List of active players by region](https://liquipedia.net/dota2/Portal:Players)\n",
        "5. [List of past tournaments and winners](https://liquipedia.net/dota2/Tier_4_Tournaments)\n",
        "6. [List of countries by region](https://en.wikipedia.org/wiki/List_of_countries_by_population_(United_Nations)\n",
        "7. [Top player earnings for League of Legends](https://liquipedia.net/leagueoflegends/Portal:Statistics/Player_earnings)\n",
        "\n",
        "Some of the data I listed I had to web scrape using Python 3.10, Selenium, and Beautiful Soup. The data is then recorded into CSV files and can be found on my [GitHub](https://github.com/HaTruong05/CSV_data/tree/main/Dota_2).\n",
        "\n",
        "Most of my data comes from liquidpedia, a page that has information on popular games and professional players of those games. The list of countries by region is taken from Wikipedia, and the in-game world leaderboards are taken from the official Dota 2 webpage.\n"
      ],
      "metadata": {
        "id": "hZ0VsJa4RzIT"
      }
    },
    {
      "cell_type": "code",
      "execution_count": null,
      "metadata": {
        "id": "a_G-1gGdxOFd"
      },
      "outputs": [],
      "source": [
        "import pandas as pd\n",
        "import numpy as np\n",
        "import matplotlib.pyplot as plt\n",
        "import seaborn as sns\n",
        "import requests\n",
        "from bs4 import BeautifulSoup"
      ]
    },
    {
      "cell_type": "code",
      "source": [
        "sns.set()"
      ],
      "metadata": {
        "id": "BJ2zdsDZB7Du"
      },
      "execution_count": null,
      "outputs": []
    },
    {
      "cell_type": "markdown",
      "source": [
        "## 3. Analyzing\n",
        "\n",
        "### Question 1: How many people out of the top 1000 players (in terms of in-game ranked matchmaking rating) actually make it into the pro scene?"
      ],
      "metadata": {
        "id": "u04RdjCIgSB2"
      }
    },
    {
      "cell_type": "code",
      "source": [
        "NA_players = pd.read_html(\"https://liquipedia.net/dota2/Portal:Players/Americas\", header=1)[0]\n",
        "row, col = NA_players.shape\n",
        "\n",
        "print(f\"NA_players has {row} rows and {col} columns\")"
      ],
      "metadata": {
        "colab": {
          "base_uri": "https://localhost:8080/"
        },
        "id": "6umVD0z0heEs",
        "outputId": "099c78c0-32b7-4b49-8cba-5cf34c8a2749"
      },
      "execution_count": null,
      "outputs": [
        {
          "output_type": "stream",
          "name": "stdout",
          "text": [
            "NA_players has 76 rows and 5 columns\n"
          ]
        }
      ]
    },
    {
      "cell_type": "code",
      "source": [
        "SA_players = pd.read_html(\"https://liquipedia.net/dota2/Portal:Players/Americas\", header=1)[1]\n",
        "row, col = SA_players.shape\n",
        "\n",
        "print(f\"SA_players has {row} rows and {col} columns\")"
      ],
      "metadata": {
        "colab": {
          "base_uri": "https://localhost:8080/"
        },
        "id": "02a0H_g3h0P8",
        "outputId": "6d0db14e-a585-4918-a8db-ba7c0c536ab2"
      },
      "execution_count": null,
      "outputs": [
        {
          "output_type": "stream",
          "name": "stdout",
          "text": [
            "SA_players has 116 rows and 5 columns\n"
          ]
        }
      ]
    },
    {
      "cell_type": "code",
      "source": [
        "EU_players = pd.read_html(\"https://liquipedia.net/dota2/Portal:Players/Europe\", header=1)[0]\n",
        "row, col = EU_players.shape\n",
        "\n",
        "print(f\"EU_players has {row} rows and {col} columns\")"
      ],
      "metadata": {
        "colab": {
          "base_uri": "https://localhost:8080/"
        },
        "id": "RkGiiAD8h6Kb",
        "outputId": "543249b8-a9af-4b6d-9ad2-fc84a6269c03"
      },
      "execution_count": null,
      "outputs": [
        {
          "output_type": "stream",
          "name": "stdout",
          "text": [
            "EU_players has 172 rows and 5 columns\n"
          ]
        }
      ]
    },
    {
      "cell_type": "code",
      "source": [
        "CIS_players = pd.read_html(\"https://liquipedia.net/dota2/Portal:Players/Europe\", header=1)[1]\n",
        "row, col = CIS_players.shape\n",
        "\n",
        "print(f\"CIS_players has {row} rows and {col} columns\")"
      ],
      "metadata": {
        "colab": {
          "base_uri": "https://localhost:8080/"
        },
        "id": "Vp98BcYtiJpX",
        "outputId": "0301f82d-2c21-4e77-f287-1a271405abb2"
      },
      "execution_count": null,
      "outputs": [
        {
          "output_type": "stream",
          "name": "stdout",
          "text": [
            "CIS_players has 160 rows and 5 columns\n"
          ]
        }
      ]
    },
    {
      "cell_type": "code",
      "source": [
        "CN_players = pd.read_html(\"https://liquipedia.net/dota2/Portal:Players/China\", header=1)[0]\n",
        "row, col = CN_players.shape\n",
        "\n",
        "print(f\"CN_players has {row} rows and {col} columns\")"
      ],
      "metadata": {
        "colab": {
          "base_uri": "https://localhost:8080/"
        },
        "id": "kZC6D3k_iN14",
        "outputId": "b146161e-1059-4da4-f5e4-9ab0f2a80e06"
      },
      "execution_count": null,
      "outputs": [
        {
          "output_type": "stream",
          "name": "stdout",
          "text": [
            "CN_players has 155 rows and 5 columns\n"
          ]
        }
      ]
    },
    {
      "cell_type": "code",
      "source": [
        "SEA_players = pd.read_html(\"https://liquipedia.net/dota2/Portal:Players/Southeast_Asia\", header=1)[0]\n",
        "row, col = SEA_players.shape\n",
        "\n",
        "print(f\"SEA_players has {row} rows and {col} columns\")"
      ],
      "metadata": {
        "colab": {
          "base_uri": "https://localhost:8080/"
        },
        "id": "mk27r6fLimF7",
        "outputId": "5cef9631-1912-480b-894d-847a283faafe"
      },
      "execution_count": null,
      "outputs": [
        {
          "output_type": "stream",
          "name": "stdout",
          "text": [
            "SEA_players has 210 rows and 5 columns\n"
          ]
        }
      ]
    },
    {
      "cell_type": "code",
      "source": [
        "# Combine active player data into one dataframe\n",
        "active_players = pd.concat([NA_players, SA_players, CN_players, CIS_players, SEA_players, EU_players], ignore_index=True)\n",
        "\n",
        "# Check its shape\n",
        "row, col = active_players.shape\n",
        "print(f\"active_players has {row} rows and {col} columns\")"
      ],
      "metadata": {
        "colab": {
          "base_uri": "https://localhost:8080/"
        },
        "id": "MmmCNKV0jrQb",
        "outputId": "3d890c57-39de-4a92-e4d2-3b4d6b1ed61d"
      },
      "execution_count": null,
      "outputs": [
        {
          "output_type": "stream",
          "name": "stdout",
          "text": [
            "active_players has 889 rows and 5 columns\n"
          ]
        }
      ]
    },
    {
      "cell_type": "code",
      "source": [
        "# Drop unecessary columns\n",
        "active_players.drop([\"Unnamed: 0\", \"Links\", \"Name\"], axis=1, inplace=True)"
      ],
      "metadata": {
        "id": "cCy5EsOZmHTk"
      },
      "execution_count": null,
      "outputs": []
    },
    {
      "cell_type": "code",
      "source": [
        "# Check its shape\n",
        "row, col = active_players.shape\n",
        "print(f\"active_players has {row} rows and {col} columns\")"
      ],
      "metadata": {
        "colab": {
          "base_uri": "https://localhost:8080/"
        },
        "id": "pre4PrE0m2pn",
        "outputId": "b3f3a24d-f81c-49b7-93cc-2e9c6f52eedc"
      },
      "execution_count": null,
      "outputs": [
        {
          "output_type": "stream",
          "name": "stdout",
          "text": [
            "active_players has 889 rows and 2 columns\n"
          ]
        }
      ]
    },
    {
      "cell_type": "code",
      "source": [
        "active_players.isnull().any()"
      ],
      "metadata": {
        "colab": {
          "base_uri": "https://localhost:8080/"
        },
        "id": "HAM4r-r3m8HQ",
        "outputId": "12cfdaa3-c219-4f37-9741-b91c3e84b99b"
      },
      "execution_count": null,
      "outputs": [
        {
          "output_type": "execute_result",
          "data": {
            "text/plain": [
              "ID      False\n",
              "Team     True\n",
              "dtype: bool"
            ]
          },
          "metadata": {},
          "execution_count": 12
        }
      ]
    },
    {
      "cell_type": "markdown",
      "source": [
        "**NOTE**:\n",
        "\n",
        "The \"Team\" column has a lot of missing data because not every active professional player on the list is signed with a team."
      ],
      "metadata": {
        "id": "2exIetoYnt9O"
      }
    },
    {
      "cell_type": "code",
      "source": [
        "leaderboard = pd.read_csv(\"https://raw.githubusercontent.com/HaTruong05/CSV_data/main/Dota_2/leaderboard.csv\", names=[\"ID\"])\n",
        "\n",
        "row, col = leaderboard.shape\n",
        "print(f\"leaderboard has {row} rows and {col} columns\")"
      ],
      "metadata": {
        "colab": {
          "base_uri": "https://localhost:8080/"
        },
        "id": "XZCjI5tuooi3",
        "outputId": "ce212b44-cdf4-4e86-abe2-d13203550a01"
      },
      "execution_count": null,
      "outputs": [
        {
          "output_type": "stream",
          "name": "stdout",
          "text": [
            "leaderboard has 4000 rows and 1 columns\n"
          ]
        }
      ]
    },
    {
      "cell_type": "markdown",
      "source": [
        "**NOTE**\n",
        "\n",
        "The data frame leaderboard contains the in-game ID of the top 4000 players around the world. More specifically, it contains the top 1000 players for each of the following regions: Americas, Europe, China, and South East Asia.\n",
        "\n",
        "Europe consists of EU and CIS players. Americas consists of NA and SA players. However, this doesn't really matter because a player is registered on the leaderboard of the region where they have the most games for the current season. A player is not registered on a server based on their current location or nationality.\n",
        "\n",
        "I picked the top 1000 for each region because Dota 2 gives players in this range a special badge that distinguishes them from the rest of the player base."
      ],
      "metadata": {
        "id": "VhLkJSlkpTbY"
      }
    },
    {
      "cell_type": "code",
      "source": [
        "leaderboard.isnull().any()"
      ],
      "metadata": {
        "colab": {
          "base_uri": "https://localhost:8080/"
        },
        "id": "6TB2vLIoshOB",
        "outputId": "9c1c20bf-c5ac-48c4-bb39-16d3a6b22239"
      },
      "execution_count": null,
      "outputs": [
        {
          "output_type": "execute_result",
          "data": {
            "text/plain": [
              "ID    True\n",
              "dtype: bool"
            ]
          },
          "metadata": {},
          "execution_count": 14
        }
      ]
    },
    {
      "cell_type": "code",
      "source": [
        "leaderboard.fillna(\"N/a\", inplace=True)"
      ],
      "metadata": {
        "id": "1dowCs8csif-"
      },
      "execution_count": null,
      "outputs": []
    },
    {
      "cell_type": "markdown",
      "source": [
        "**Note**\n",
        "\n",
        "Fill missing values with \"N/a.\" Missing values are the result of special characters in the in-game IDs listed on the leaderboard, which got lost during the web scraping process. Ex: S Ⱥ S ᵾ Ꝁ ɇ <. This shouldn't affect the analysis I'm about to do because I want to see if current active pro players appear in the top 1000 leaderboards for each region. Professional players' in-game ID are identical to their competing username, which never contains such special characters.\n",
        "\n"
      ],
      "metadata": {
        "id": "Vy3OHdZZwuLY"
      }
    },
    {
      "cell_type": "code",
      "source": [
        "# Check if an active pro player is in the top 1000 leaderboard\n",
        "# 1 if True, 0 if False\n",
        "top1000 = []\n",
        "for ID in active_players[\"ID\"]:\n",
        "  val = 0\n",
        "  for UID in leaderboard[\"ID\"]:\n",
        "    if ID in UID:\n",
        "      val = 1\n",
        "      continue\n",
        "  top1000.append(val)"
      ],
      "metadata": {
        "id": "g5h6Awfqquql"
      },
      "execution_count": null,
      "outputs": []
    },
    {
      "cell_type": "code",
      "source": [
        "top1000 = np.array(top1000)"
      ],
      "metadata": {
        "id": "5OOAOl06tSkj"
      },
      "execution_count": null,
      "outputs": []
    },
    {
      "cell_type": "code",
      "source": [
        "# Should have same number of values as number of active players\n",
        "print(f\"top 1000 has {len(top1000)} values\")"
      ],
      "metadata": {
        "colab": {
          "base_uri": "https://localhost:8080/"
        },
        "id": "FLdkJvEdtkhG",
        "outputId": "bb6d0eaa-a1a0-41e4-af02-b896c841ab24"
      },
      "execution_count": null,
      "outputs": [
        {
          "output_type": "stream",
          "name": "stdout",
          "text": [
            "top 1000 has 889 values\n"
          ]
        }
      ]
    },
    {
      "cell_type": "code",
      "source": [
        "# Add to the dataframe active_players\n",
        "active_players[\"top1000\"] = top1000"
      ],
      "metadata": {
        "id": "iGAogzuPupVd"
      },
      "execution_count": null,
      "outputs": []
    },
    {
      "cell_type": "markdown",
      "source": [
        "### Answer to question 1:"
      ],
      "metadata": {
        "id": "zW10rOE010V_"
      }
    },
    {
      "cell_type": "code",
      "source": [
        "pro_chance = active_players[\"top1000\"].sum() / 4000 * 100\n",
        "print(\"{:.2f}% of the top 4000 players are in the professional scene\".format(pro_chance))"
      ],
      "metadata": {
        "colab": {
          "base_uri": "https://localhost:8080/"
        },
        "id": "aucdfKAdzeGm",
        "outputId": "ae6b71d0-5f5f-450b-9454-c728eecc2997"
      },
      "execution_count": null,
      "outputs": [
        {
          "output_type": "stream",
          "name": "stdout",
          "text": [
            "10.90% of the top 4000 players are in the professional scene\n"
          ]
        }
      ]
    },
    {
      "cell_type": "markdown",
      "source": [
        "\n",
        "### Why is this interesting?\n",
        "While there are many factors I haven't accounted for, such as not all of the top-ranking players are actively trying to break into the professional scene, or how professional players dedicate more time to practicing for tournaments in private lobbies than grinding for a spot on the leaderboards, the number still gives a glimpse of how hard is it to make it as a professional Dota 2 player.\n",
        "\n",
        "These players dedicate much of their time to the game to reach a range where they can be scouted by Esports organizations. Yet, only 1 out of 10 make it. Furthermore, these are the best players in Dota. For an average person who wishes to become a professional Dota 2 player, the odds are much lower.\n",
        "\n",
        "Data from the last 30 days show that the number of active players for Dota 2 peaked at 704,301. This means that if I were to pick a random player, their odds of entering the pro scene is less than 1%.  \n",
        "\n"
      ],
      "metadata": {
        "id": "YKSITp160t_i"
      }
    },
    {
      "cell_type": "markdown",
      "source": [
        "### Question 2: Out of the currently active professional players, how many are signed with a team?"
      ],
      "metadata": {
        "id": "wEMiz1RPyaNq"
      }
    },
    {
      "cell_type": "code",
      "source": [
        "signed = active_players[\"Team\"].notnull().sum()"
      ],
      "metadata": {
        "id": "fwvc_kt12hHm"
      },
      "execution_count": null,
      "outputs": []
    },
    {
      "cell_type": "code",
      "source": [
        "signed_per = signed / len(active_players[\"Team\"]) * 100"
      ],
      "metadata": {
        "id": "yb6uTFiK2-a9"
      },
      "execution_count": null,
      "outputs": []
    },
    {
      "cell_type": "code",
      "source": [
        "print(\"{:.2f}% of active players are signed with a team\".format(signed_per))"
      ],
      "metadata": {
        "colab": {
          "base_uri": "https://localhost:8080/"
        },
        "id": "rT3oNxCD3Qw7",
        "outputId": "e170b248-4fe1-4dfd-d52e-e194393299f1"
      },
      "execution_count": null,
      "outputs": [
        {
          "output_type": "stream",
          "name": "stdout",
          "text": [
            "50.73% of active players are signed with a team\n"
          ]
        }
      ]
    },
    {
      "cell_type": "markdown",
      "source": [
        "Even when someone has managed to break into the professional scene and enters a contract with an organization, it might not stay that way for long. Teams forming and quickly disbanding or players getting kicked for not performing well are common occurrences in Esports. The analysis above shows that only half of the current active players are signed with a team."
      ],
      "metadata": {
        "id": "PC5qoQbO3hR2"
      }
    },
    {
      "cell_type": "markdown",
      "source": [
        "### Question 3: While the top-performing players can earn a lot of prize money, does it hold up for the average professional player?"
      ],
      "metadata": {
        "id": "6wBLPKnj49Vt"
      }
    },
    {
      "cell_type": "code",
      "source": [
        "earnings1 = pd.read_html(\"https://liquipedia.net/dota2/Portal:Statistics/Player_earnings\")[0]\n",
        "earnings2 = pd.read_html(\"https://liquipedia.net/dota2/Special:Ask/-5B-5BConcept:Player-20earnings-5D-5D/-3FHas-20name/-3FHas-20nationality/-3FHas-20earnings/-3FHas-20id/mainlabel%3D/limit%3D500/order%3Ddesc/sort%3Dhas-20earnings/offset%3D500/format%3Dtemplate/link%3Dnone/searchlabel%3D...-20further-20results/default%3DNo-20more-20players-20with-20earnings/template%3DPortal-20statistics-20player-20earnings-20table-200-2D100-2Frow/introtemplate%3DPortal-20statistics-20player-20earnings-20table-2Fintro/outrotemplate%3DPortal-20statistics-20player-20earnings-20table-2Foutro\")[0]\n",
        "earnings3 = pd.read_html(\"https://liquipedia.net/dota2/index.php?title=Special:Ask&limit=500&offset=1000&q=%5B%5BConcept%3APlayer+earnings%5D%5D&p=mainlabel%3D%2Fformat%3Dtemplate%2Flink%3Dnone%2Fsearchlabel%3D...-20further-20results%2Fdefault%3DNo-20more-20players-20with-20earnings%2Ftemplate%3DPortal-20statistics-20player-20earnings-20table-200-2D100-2Frow%2Fintrotemplate%3DPortal-20statistics-20player-20earnings-20table-2Fintro%2Foutrotemplate%3DPortal-20statistics-20player-20earnings-20table-2Foutro&po=%3FHas+name%0A%3FHas+nationality%0A%3FHas+earnings%0A%3FHas+id%0A&sort=has+earnings&order=desc&eq=no#search\")[0]"
      ],
      "metadata": {
        "id": "Tc7sewO849Ef"
      },
      "execution_count": null,
      "outputs": []
    },
    {
      "cell_type": "code",
      "source": [
        "# Combine 3 earnings tables into one\n",
        "player_earnings = pd.concat([earnings1, earnings2, earnings3], ignore_index=True)"
      ],
      "metadata": {
        "id": "jBvYLtaq9Chb"
      },
      "execution_count": null,
      "outputs": []
    },
    {
      "cell_type": "code",
      "source": [
        "# Should have 1368 rows and 8 columns\n",
        "row, col = player_earnings.shape\n",
        "print(f\"player_earnings has {row} rows and {col} columns\")"
      ],
      "metadata": {
        "colab": {
          "base_uri": "https://localhost:8080/"
        },
        "id": "DPJNzP4B8OxL",
        "outputId": "106b4c9d-52bd-4d1d-ca39-97cb8a369225"
      },
      "execution_count": null,
      "outputs": [
        {
          "output_type": "stream",
          "name": "stdout",
          "text": [
            "player_earnings has 1368 rows and 8 columns\n"
          ]
        }
      ]
    },
    {
      "cell_type": "code",
      "source": [
        "# Drop uneeded columns\n",
        "player_earnings.drop(['Unnamed: 0', 'Unnamed: 1'], axis=1, inplace=True)"
      ],
      "metadata": {
        "id": "B_yUfoW15053"
      },
      "execution_count": null,
      "outputs": []
    },
    {
      "cell_type": "code",
      "source": [
        "player_earnings.rename(columns={'Unnamed: 3':\"1st_place\", 'Unnamed: 4':\"2nd_place\", 'Unnamed: 5':\"3rd_place\"}, inplace=True)"
      ],
      "metadata": {
        "id": "7TxGmZ0g7jaO"
      },
      "execution_count": null,
      "outputs": []
    },
    {
      "cell_type": "code",
      "source": [
        "player_earnings.isnull().any()"
      ],
      "metadata": {
        "colab": {
          "base_uri": "https://localhost:8080/"
        },
        "id": "nqwqR9g2Ayp6",
        "outputId": "60ea6e71-26fa-4914-88d7-2bbbb9328b9e"
      },
      "execution_count": null,
      "outputs": [
        {
          "output_type": "execute_result",
          "data": {
            "text/plain": [
              "ID           False\n",
              "1st_place    False\n",
              "2nd_place    False\n",
              "3rd_place    False\n",
              "Tier 1       False\n",
              "Earnings     False\n",
              "dtype: bool"
            ]
          },
          "metadata": {},
          "execution_count": 29
        }
      ]
    },
    {
      "cell_type": "code",
      "source": [
        "# Remove all non digit characters in earnings column with regex\n",
        "player_earnings[\"Earnings\"].replace('\\D', '', regex=True, inplace=True)"
      ],
      "metadata": {
        "id": "9SVzcEzm_Ik3"
      },
      "execution_count": null,
      "outputs": []
    },
    {
      "cell_type": "code",
      "source": [
        "player_earnings[\"Earnings\"] = player_earnings[\"Earnings\"].astype(float)"
      ],
      "metadata": {
        "id": "vvAWRtM6-4hd"
      },
      "execution_count": null,
      "outputs": []
    },
    {
      "cell_type": "code",
      "source": [
        "player_earnings[\"Earnings(mil)\"] = player_earnings[\"Earnings\"]/1000000"
      ],
      "metadata": {
        "id": "voXNfHn4DBNZ"
      },
      "execution_count": null,
      "outputs": []
    },
    {
      "cell_type": "code",
      "source": [
        "# Find the percentage of players with over $1 million in tournament earnings\n",
        "top_earnings = player_earnings[\"Earnings(mil)\"] > 1\n",
        "top_earners = player_earnings[top_earnings]\n",
        "top_earners_per = len(top_earners) / row * 100\n",
        "\n",
        "print(\"{:.2f}% of players have earned more than $1 million dollars\".format(top_earners_per))"
      ],
      "metadata": {
        "id": "mUHeuoQ3LUfj",
        "colab": {
          "base_uri": "https://localhost:8080/"
        },
        "outputId": "029db552-f5cc-4914-d63a-210db4d314fd"
      },
      "execution_count": null,
      "outputs": [
        {
          "output_type": "stream",
          "name": "stdout",
          "text": [
            "6.14% of players have earned more than $1 million dollars\n"
          ]
        }
      ]
    },
    {
      "cell_type": "code",
      "source": [
        "# Find the percentage of players with less than $100,000 in tournament earnings\n",
        "low_earnings = player_earnings[\"Earnings(mil)\"] < 0.1\n",
        "low_earners = player_earnings[low_earnings]\n",
        "\n",
        "low_earners_per = len(low_earners) / row *100\n",
        "\n",
        "print(\"{:.2f}% of players have earned less than 10,000 dollars\".format(low_earners_per))"
      ],
      "metadata": {
        "id": "qCLCeePbLp1t",
        "colab": {
          "base_uri": "https://localhost:8080/"
        },
        "outputId": "358c850e-9182-4f91-8650-26645c819cab"
      },
      "execution_count": null,
      "outputs": [
        {
          "output_type": "stream",
          "name": "stdout",
          "text": [
            "77.92% of players have earned less than 10,000 dollars\n"
          ]
        }
      ]
    },
    {
      "cell_type": "code",
      "source": [
        "top_earnings_per = top_earners[\"Earnings\"].sum() / player_earnings[\"Earnings\"].sum() * 100\n",
        "\n",
        "print(\"{:.2f}% of tournament earnings goes to the top {:.2f}% of players\".format(top_earnings_per, top_earners_per))"
      ],
      "metadata": {
        "colab": {
          "base_uri": "https://localhost:8080/"
        },
        "id": "r_SEc4HE39wf",
        "outputId": "7787d1ae-8902-400f-87dc-da3fb7ab93d4"
      },
      "execution_count": null,
      "outputs": [
        {
          "output_type": "stream",
          "name": "stdout",
          "text": [
            "68.13% of tournament earnings goes to the top 6.14% of players\n"
          ]
        }
      ]
    },
    {
      "cell_type": "code",
      "source": [
        "low_earnings_per = low_earners[\"Earnings\"].sum() / player_earnings[\"Earnings\"].sum() * 100\n",
        "\n",
        "print(\"{:.2f}% of tournament earnings goes to the top {:.2f}% of players\".format(low_earnings_per, low_earners_per))"
      ],
      "metadata": {
        "colab": {
          "base_uri": "https://localhost:8080/"
        },
        "id": "6Fu-d_kU6dmP",
        "outputId": "69d002e9-1457-40a0-a052-598f5cbc3e61"
      },
      "execution_count": null,
      "outputs": [
        {
          "output_type": "stream",
          "name": "stdout",
          "text": [
            "6.56% of tournament earnings goes to the top 77.92% of players\n"
          ]
        }
      ]
    },
    {
      "cell_type": "code",
      "source": [
        "fig, ax = plt.subplots()\n",
        "fig.set_size_inches(12,8)\n",
        "\n",
        "x = player_earnings.index\n",
        "y = player_earnings[\"Earnings(mil)\"]\n",
        "\n",
        "plt.xlabel(\"Ranking\")\n",
        "plt.ylabel(\"Earnings (in Million USD)\")\n",
        "plt.title(\"Tournament earnings for Dota 2 professional players from highest to lowest\")\n",
        "\n",
        "ax.plot(x, y)\n",
        "\n",
        "plt.show()"
      ],
      "metadata": {
        "colab": {
          "base_uri": "https://localhost:8080/",
          "height": 518
        },
        "id": "awRQiUA1BDfW",
        "outputId": "6eb9e8bd-4947-4162-fcd7-570ca0f8ecf9"
      },
      "execution_count": null,
      "outputs": [
        {
          "output_type": "display_data",
          "data": {
            "text/plain": [
              "<Figure size 864x576 with 1 Axes>"
            ],
            "image/png": "[encoded data removed]"
          },
          "metadata": {}
        }
      ]
    },
    {
      "cell_type": "markdown",
      "source": [
        "The graph above shows us the cruel reality of being a professional Dota player. While the millions of dollars of prize money are undoubtedly attractive, it's all funneled into the pockets of the selected few at the top of the scene, shown clearly by the abrupt drop in the graph around the top 100th earner.\n",
        "\n",
        "Only 6.14% of the players have earned more than 1 million dollars in prize money, and their earnings account for 68.13% of all players' tournament earnings. The majority of players (77.92%) have earned less than 100,000 dollars throughout their whole career, and their earnings only make up 6.56% of all players' tournament earnings.\n",
        "\n",
        "This is because prize pools of millions of dollars are only awarded at global scale tournaments (tier 1 tournaments) where only the best of the best can participate. For regional and local tournaments (tier 2 to tier 4 tournaments), the prize pool is much lower.\n"
      ],
      "metadata": {
        "id": "Fj9xEmdYI5wg"
      }
    },
    {
      "cell_type": "markdown",
      "source": [
        "### Conclusion 1\n",
        "\n",
        "Using the results of the three analyses above, we can conclude that it's extremely difficult to become a professional Dota 2 player, and it isn’t as appealing as most people might think. While the biggest events award the winners with millions of dollars, most professional Dota 2 players never even come close to earning that much."
      ],
      "metadata": {
        "id": "0Xzm5KyCflED"
      }
    },
    {
      "cell_type": "markdown",
      "source": [
        "### Question 4: What region has won the most tier 1 tournaments?"
      ],
      "metadata": {
        "id": "uV3PbYRCDctk"
      }
    },
    {
      "cell_type": "code",
      "source": [
        "# Contains tournament names and winners\n",
        "tour_results = pd.read_csv(\"https://raw.githubusercontent.com/HaTruong05/CSV_data/main/Dota_2/tournament_data.csv\", names=[\"Tournament\", \"Winner\", \"Runner-up\"])"
      ],
      "metadata": {
        "id": "ARPHttxoL0J1"
      },
      "execution_count": null,
      "outputs": []
    },
    {
      "cell_type": "code",
      "source": [
        "row, col = tour_results.shape\n",
        "print(f\"tour_results have {row} rows and {col} columns\")"
      ],
      "metadata": {
        "colab": {
          "base_uri": "https://localhost:8080/"
        },
        "id": "GFD_UOihJtE8",
        "outputId": "ff93a5c7-fffd-402e-900d-c4d6b7559081"
      },
      "execution_count": null,
      "outputs": [
        {
          "output_type": "stream",
          "name": "stdout",
          "text": [
            "tour_results have 175 rows and 3 columns\n"
          ]
        }
      ]
    },
    {
      "cell_type": "code",
      "source": [
        "tour_results.isnull().any()"
      ],
      "metadata": {
        "colab": {
          "base_uri": "https://localhost:8080/"
        },
        "id": "uzCo67-HHsdk",
        "outputId": "e92df99e-fc6e-4756-d671-e7f798b2e790"
      },
      "execution_count": null,
      "outputs": [
        {
          "output_type": "execute_result",
          "data": {
            "text/plain": [
              "Tournament    False\n",
              "Winner        False\n",
              "Runner-up     False\n",
              "dtype: bool"
            ]
          },
          "metadata": {},
          "execution_count": 40
        }
      ]
    },
    {
      "cell_type": "code",
      "source": [
        "# Contains team name and what region the team is in\n",
        "teams = pd.read_csv(\"https://raw.githubusercontent.com/HaTruong05/CSV_data/main/Dota_2/teams.csv\", names=[\"Team\", \"Region\"], keep_default_na=False)"
      ],
      "metadata": {
        "id": "fGtYqHONFVkf"
      },
      "execution_count": null,
      "outputs": []
    },
    {
      "cell_type": "code",
      "source": [
        "teams.isnull().any()"
      ],
      "metadata": {
        "colab": {
          "base_uri": "https://localhost:8080/"
        },
        "id": "YBQCb7PSHnRE",
        "outputId": "077bc22c-bf53-4793-8847-082b982db652"
      },
      "execution_count": null,
      "outputs": [
        {
          "output_type": "execute_result",
          "data": {
            "text/plain": [
              "Team      False\n",
              "Region    False\n",
              "dtype: bool"
            ]
          },
          "metadata": {},
          "execution_count": 42
        }
      ]
    },
    {
      "cell_type": "code",
      "source": [
        "# Merge 2 dataframes to get the region of the winning teams\n",
        "tour_results = pd.merge(tour_results, teams, how=\"left\", left_on=\"Winner\", right_on=\"Team\")"
      ],
      "metadata": {
        "id": "QKC_mfXjJmDA"
      },
      "execution_count": null,
      "outputs": []
    },
    {
      "cell_type": "code",
      "source": [
        "tour_results.drop(\"Team\", axis=1, inplace=True)"
      ],
      "metadata": {
        "id": "pev4vAprMC5s"
      },
      "execution_count": null,
      "outputs": []
    },
    {
      "cell_type": "code",
      "source": [
        "tour_results.rename(columns={\"Region\":\"Winner_region\"}, inplace=True)"
      ],
      "metadata": {
        "id": "DVSFZTF-Qmpy"
      },
      "execution_count": null,
      "outputs": []
    },
    {
      "cell_type": "code",
      "source": [
        "row, col = tour_results.shape\n",
        "print(f\"tour_results have {row} rows and {col} columns\")"
      ],
      "metadata": {
        "colab": {
          "base_uri": "https://localhost:8080/"
        },
        "id": "TgFtB-byMFse",
        "outputId": "cf043df0-6a2c-4a87-9fcc-e08e3f0e3886"
      },
      "execution_count": null,
      "outputs": [
        {
          "output_type": "stream",
          "name": "stdout",
          "text": [
            "tour_results have 175 rows and 4 columns\n"
          ]
        }
      ]
    },
    {
      "cell_type": "code",
      "source": [
        "tour_results.isnull().any()"
      ],
      "metadata": {
        "colab": {
          "base_uri": "https://localhost:8080/"
        },
        "id": "nqZ_EeXqK62T",
        "outputId": "d135ed3f-148b-44a6-c16d-169beb12aa56"
      },
      "execution_count": null,
      "outputs": [
        {
          "output_type": "execute_result",
          "data": {
            "text/plain": [
              "Tournament       False\n",
              "Winner           False\n",
              "Runner-up        False\n",
              "Winner_region    False\n",
              "dtype: bool"
            ]
          },
          "metadata": {},
          "execution_count": 47
        }
      ]
    },
    {
      "cell_type": "code",
      "source": [
        "winner_count = tour_results.groupby(\"Winner_region\").count()[\"Winner\"]"
      ],
      "metadata": {
        "id": "7tl74I3zPi5M"
      },
      "execution_count": null,
      "outputs": []
    },
    {
      "cell_type": "code",
      "source": [
        "print(\"Tournaments won by region:\\n\")\n",
        "winner_count"
      ],
      "metadata": {
        "colab": {
          "base_uri": "https://localhost:8080/"
        },
        "id": "fNwFZ1Ohxj24",
        "outputId": "ea206dce-1be3-4942-99ab-4582f444adca"
      },
      "execution_count": null,
      "outputs": [
        {
          "output_type": "stream",
          "name": "stdout",
          "text": [
            "Tournaments won by region:\n",
            "\n"
          ]
        },
        {
          "output_type": "execute_result",
          "data": {
            "text/plain": [
              "Winner_region\n",
              "CIS    49\n",
              "CN     50\n",
              "EU     49\n",
              "NA      3\n",
              "SA     12\n",
              "SEA    12\n",
              "Name: Winner, dtype: int64"
            ]
          },
          "metadata": {},
          "execution_count": 49
        }
      ]
    },
    {
      "cell_type": "code",
      "source": [
        "fig, ax = plt.subplots()\n",
        "fig.set_size_inches(12,8)\n",
        "\n",
        "x = winner_count.index\n",
        "y = winner_count\n",
        "\n",
        "plt.xlabel(\"Region\")\n",
        "plt.ylabel(\"Count\")\n",
        "plt.title(\"Tier 1 Tournaments Won by Region\")\n",
        "\n",
        "ax.bar(x, y)\n",
        "\n",
        "plt.show()"
      ],
      "metadata": {
        "colab": {
          "base_uri": "https://localhost:8080/",
          "height": 518
        },
        "id": "AgNMMkMSu1dg",
        "outputId": "f04697fe-dfb7-4227-adc3-ff6ec6c65f6e"
      },
      "execution_count": null,
      "outputs": [
        {
          "output_type": "display_data",
          "data": {
            "text/plain": [
              "<Figure size 864x576 with 1 Axes>"
            ],
            "image/png": "[encoded data removed]"
          },
          "metadata": {}
        }
      ]
    },
    {
      "cell_type": "markdown",
      "source": [
        "China has won the most tier 1 tournaments by far, with CIS and Europe tying for second closely behind. South America and South East Asia tie for third place, with 12 tier 1 events won each, and North America is last, coming first for only a total of 3 times.\n",
        "\n",
        "While it's true that China is in first, the results are a bit too close for us to declare a clear winner. As such, I will also take a look at the number of times each region has finished in second place."
      ],
      "metadata": {
        "id": "1Py_esp8u2jl"
      }
    },
    {
      "cell_type": "code",
      "source": [
        "# Merge 2 dataframes to get the region of the teams finishing second\n",
        "tour_results = pd.merge(tour_results, teams, how=\"left\", left_on=\"Runner-up\", right_on=\"Team\")"
      ],
      "metadata": {
        "id": "XTiSAtA3RL7l"
      },
      "execution_count": null,
      "outputs": []
    },
    {
      "cell_type": "code",
      "source": [
        "tour_results.drop(\"Team\", axis=1, inplace=True)"
      ],
      "metadata": {
        "id": "zlIXEqC8RUBk"
      },
      "execution_count": null,
      "outputs": []
    },
    {
      "cell_type": "code",
      "source": [
        "tour_results.rename(columns={\"Region\":\"Runner-up_region\"}, inplace=True)"
      ],
      "metadata": {
        "id": "oO62zroBRZfy"
      },
      "execution_count": null,
      "outputs": []
    },
    {
      "cell_type": "code",
      "source": [
        "row, col = tour_results.shape\n",
        "print(f\"tour_results have {row} rows and {col} columns\")"
      ],
      "metadata": {
        "colab": {
          "base_uri": "https://localhost:8080/"
        },
        "id": "DtctzW5CReYC",
        "outputId": "bb7c27c8-19d5-490e-d456-e9d9054166fc"
      },
      "execution_count": null,
      "outputs": [
        {
          "output_type": "stream",
          "name": "stdout",
          "text": [
            "tour_results have 175 rows and 5 columns\n"
          ]
        }
      ]
    },
    {
      "cell_type": "code",
      "source": [
        "tour_results.isnull().any()"
      ],
      "metadata": {
        "colab": {
          "base_uri": "https://localhost:8080/"
        },
        "id": "Tode-ZTtSNG5",
        "outputId": "6f55a92b-ab29-40ea-eabb-68ccbb00bcdf"
      },
      "execution_count": null,
      "outputs": [
        {
          "output_type": "execute_result",
          "data": {
            "text/plain": [
              "Tournament          False\n",
              "Winner              False\n",
              "Runner-up           False\n",
              "Winner_region       False\n",
              "Runner-up_region    False\n",
              "dtype: bool"
            ]
          },
          "metadata": {},
          "execution_count": 55
        }
      ]
    },
    {
      "cell_type": "code",
      "source": [
        "runner_up = tour_results.groupby(\"Runner-up_region\").count()[\"Runner-up\"]"
      ],
      "metadata": {
        "id": "edjuO-EmRmi2"
      },
      "execution_count": null,
      "outputs": []
    },
    {
      "cell_type": "code",
      "source": [
        "print(\"Getting second place in tournaments by region:\\n\")\n",
        "runner_up"
      ],
      "metadata": {
        "colab": {
          "base_uri": "https://localhost:8080/"
        },
        "id": "xbiSPa98y7Nd",
        "outputId": "3c60360e-23ee-4220-8e4a-2086a65c8161"
      },
      "execution_count": null,
      "outputs": [
        {
          "output_type": "stream",
          "name": "stdout",
          "text": [
            "Getting second place in tournaments by region:\n",
            "\n"
          ]
        },
        {
          "output_type": "execute_result",
          "data": {
            "text/plain": [
              "Runner-up_region\n",
              "CIS    35\n",
              "CN     46\n",
              "EU     42\n",
              "NA     19\n",
              "SA     20\n",
              "SEA    13\n",
              "Name: Runner-up, dtype: int64"
            ]
          },
          "metadata": {},
          "execution_count": 57
        }
      ]
    },
    {
      "cell_type": "code",
      "source": [
        "fig, ax = plt.subplots()\n",
        "fig.set_size_inches(12,8)\n",
        "\n",
        "x = runner_up.index\n",
        "y = runner_up\n",
        "\n",
        "plt.xlabel(\"Region\")\n",
        "plt.ylabel(\"Count\")\n",
        "plt.title(\"Getting Second Place in Tier 1 Tournaments by Region\")\n",
        "\n",
        "ax.bar(x, y)\n",
        "\n",
        "plt.show()"
      ],
      "metadata": {
        "colab": {
          "base_uri": "https://localhost:8080/",
          "height": 518
        },
        "id": "d9xQ_5OmyET9",
        "outputId": "1e60274e-073f-4ff3-bf0d-8a9b6b85393c"
      },
      "execution_count": null,
      "outputs": [
        {
          "output_type": "display_data",
          "data": {
            "text/plain": [
              "<Figure size 864x576 with 1 Axes>"
            ],
            "image/png": "[encoded data removed]"
          },
          "metadata": {}
        }
      ]
    },
    {
      "cell_type": "markdown",
      "source": [
        "Once again, China is in first place, followed closely by Europe, and then CIS. Interestingly, while North America hasn't won many tier 1 tournaments, the region has come second a considerable amount of times, ranking 5th overall. South America is in 4th place, and South East Asia is last.\n",
        "\n",
        "From the analysis above, China is undisputedly first when it comes to performing well in tournaments, with Europe closely behind, and CIS in third place. While South America and South East Asia tie for the number of tournaments won, I will give South America 4th place since the region has finished second more times than SEA has. North America is a bit of an outlier but I will place the region behind SEA since NA's number of tournaments won is much lower than SEA's."
      ],
      "metadata": {
        "id": "i5QVLOJg2t0e"
      }
    },
    {
      "cell_type": "markdown",
      "source": [
        "### Question 5: What region has won the most prize money based on team earnings?"
      ],
      "metadata": {
        "id": "9XgHyEMTB1gB"
      }
    },
    {
      "cell_type": "code",
      "source": [
        "team1 = pd.read_html(\"https://liquipedia.net/dota2/Portal:Statistics/Team_earnings\")[0]\n",
        "team2 = pd.read_html(\"https://liquipedia.net/dota2/Special:Ask/-5B-5BConcept:Team-20earnings-5D-5D-20-5B-5BIs-20national-20team::false-5D-5D/-3FHas-20name/-3FHas-20earnings/-3FHas-20id/mainlabel%3D/limit%3D500/order%3Ddesc/sort%3Dhas-20earnings/offset%3D500/format%3Dtemplate/link%3Dnone/searchlabel%3D...-20further-20results/default%3DNo-20more-20teams-20with-20earnings/template%3DPortal-20statistics-20team-20earnings-20table-200-2D100-2Frow/introtemplate%3DPortal-20statistics-20team-20earnings-20table-2Fintro/outrotemplate%3DPortal-20statistics-20team-20earnings-20table-2Foutro\")[0]"
      ],
      "metadata": {
        "id": "mqf-JpPyB-A-"
      },
      "execution_count": null,
      "outputs": []
    },
    {
      "cell_type": "code",
      "source": [
        "# Combine 2 team earning tables into one\n",
        "team_earnings = pd.concat([team1, team2], ignore_index=True)"
      ],
      "metadata": {
        "id": "CrXB6n8oCkfw"
      },
      "execution_count": null,
      "outputs": []
    },
    {
      "cell_type": "code",
      "source": [
        "row, col = team_earnings.shape\n",
        "print(f\"team_earnings has {row} rows and {col} columns\")"
      ],
      "metadata": {
        "colab": {
          "base_uri": "https://localhost:8080/"
        },
        "id": "Xn1Oo8i9C3-T",
        "outputId": "499b20de-2287-4bb8-ee2b-7b228e785588"
      },
      "execution_count": null,
      "outputs": [
        {
          "output_type": "stream",
          "name": "stdout",
          "text": [
            "team_earnings has 646 rows and 7 columns\n"
          ]
        }
      ]
    },
    {
      "cell_type": "code",
      "source": [
        "team_earnings.drop(\"Unnamed: 0\", axis=1, inplace=True)"
      ],
      "metadata": {
        "id": "MxWRWXCnDe7A"
      },
      "execution_count": null,
      "outputs": []
    },
    {
      "cell_type": "code",
      "source": [
        "team_earnings.rename(columns={'Organization':'Team','Unnamed: 2':\"1st_place\", 'Unnamed: 3':\"2nd_place\", 'Unnamed: 4':\"3rd_place\"}, inplace=True)"
      ],
      "metadata": {
        "id": "M7qu_aEBDuvN"
      },
      "execution_count": null,
      "outputs": []
    },
    {
      "cell_type": "code",
      "source": [
        "# Remove all non digit characters in earnings column with regex\n",
        "team_earnings[\"Earnings\"].replace('\\D', '', regex=True, inplace=True)"
      ],
      "metadata": {
        "id": "lPPh5bAkD84B"
      },
      "execution_count": null,
      "outputs": []
    },
    {
      "cell_type": "code",
      "source": [
        "team_earnings[\"Earnings\"] = team_earnings[\"Earnings\"].astype(float)"
      ],
      "metadata": {
        "id": "G9184g7QEJx5"
      },
      "execution_count": null,
      "outputs": []
    },
    {
      "cell_type": "code",
      "source": [
        "team_earnings.isnull().any()"
      ],
      "metadata": {
        "colab": {
          "base_uri": "https://localhost:8080/"
        },
        "id": "PKcdEbArC70H",
        "outputId": "23b55779-a654-4e15-9557-9ea4da6c2de5"
      },
      "execution_count": null,
      "outputs": [
        {
          "output_type": "execute_result",
          "data": {
            "text/plain": [
              "Team         False\n",
              "1st_place    False\n",
              "2nd_place    False\n",
              "3rd_place    False\n",
              "Tier 1       False\n",
              "Earnings     False\n",
              "dtype: bool"
            ]
          },
          "metadata": {},
          "execution_count": 66
        }
      ]
    },
    {
      "cell_type": "code",
      "source": [
        "team_earnings.dtypes"
      ],
      "metadata": {
        "colab": {
          "base_uri": "https://localhost:8080/"
        },
        "id": "bOpUAFaHDzwU",
        "outputId": "72f0f82a-358a-458f-899e-a48d5ae509ee"
      },
      "execution_count": null,
      "outputs": [
        {
          "output_type": "execute_result",
          "data": {
            "text/plain": [
              "Team          object\n",
              "1st_place      int64\n",
              "2nd_place      int64\n",
              "3rd_place      int64\n",
              "Tier 1         int64\n",
              "Earnings     float64\n",
              "dtype: object"
            ]
          },
          "metadata": {},
          "execution_count": 67
        }
      ]
    },
    {
      "cell_type": "code",
      "source": [
        "# Merge data to get the region of each team\n",
        "team_earnings = pd.merge(team_earnings, teams, how=\"left\")"
      ],
      "metadata": {
        "id": "aWuDMtWrEhGP"
      },
      "execution_count": null,
      "outputs": []
    },
    {
      "cell_type": "code",
      "source": [
        "team_earnings.set_index(\"Team\", inplace=True)"
      ],
      "metadata": {
        "id": "s_MbgHKj2Jxf"
      },
      "execution_count": null,
      "outputs": []
    },
    {
      "cell_type": "code",
      "source": [
        "# Drop a team that doesn't belong to any regions\n",
        "team_earnings.drop(\"Vivacity E-Sports\", inplace=True)"
      ],
      "metadata": {
        "id": "Z1bHR0kx2bWu"
      },
      "execution_count": null,
      "outputs": []
    },
    {
      "cell_type": "markdown",
      "source": [
        "**NOTE**\n",
        "\n",
        "For this section, there's earnings data from teams based in Africa. African teams didn't show up in the previous section because no Africa-based organizations have made it to Tier 1 tournaments yet. Furthermore, Africa is not included in the 6 main regions for competitive Dota 2.\n",
        "\n",
        "As such, I have decided to drop the African teams since they don't contribute to my analysis of the 6 main regions."
      ],
      "metadata": {
        "id": "KA7Xx6XSjyq3"
      }
    },
    {
      "cell_type": "code",
      "source": [
        "# Drop teams that are based in Africa\n",
        "Africa_teams = team_earnings[team_earnings[\"Region\"]==\"Africa\"]\n",
        "team_earnings.drop(Africa_teams.index, inplace=True)"
      ],
      "metadata": {
        "id": "vjk6AuxejYiW"
      },
      "execution_count": null,
      "outputs": []
    },
    {
      "cell_type": "code",
      "source": [
        "row, col = team_earnings.shape\n",
        "print(f\"team_earnings has {row} rows and {col} columns\")"
      ],
      "metadata": {
        "colab": {
          "base_uri": "https://localhost:8080/"
        },
        "id": "MCnxoFS2FPeJ",
        "outputId": "47ff07b8-8178-483e-bcc5-814aff87f142"
      },
      "execution_count": null,
      "outputs": [
        {
          "output_type": "stream",
          "name": "stdout",
          "text": [
            "team_earnings has 643 rows and 6 columns\n"
          ]
        }
      ]
    },
    {
      "cell_type": "code",
      "source": [
        "region_team_earnings = team_earnings.groupby(\"Region\").sum()[\"Earnings\"]"
      ],
      "metadata": {
        "id": "ZiFh9Fd5eTBY"
      },
      "execution_count": null,
      "outputs": []
    },
    {
      "cell_type": "code",
      "source": [
        "print(\"Total earnings by region using team data: \\n\")\n",
        "region_team_earnings"
      ],
      "metadata": {
        "colab": {
          "base_uri": "https://localhost:8080/"
        },
        "id": "xhmFNaUvebZs",
        "outputId": "2fdfad55-53c9-4989-dd73-ab96d04d8530"
      },
      "execution_count": null,
      "outputs": [
        {
          "output_type": "stream",
          "name": "stdout",
          "text": [
            "Total earnings by region using team data: \n",
            "\n"
          ]
        },
        {
          "output_type": "execute_result",
          "data": {
            "text/plain": [
              "Region\n",
              "CIS     44733421.0\n",
              "CN      92085122.0\n",
              "EU     102402218.0\n",
              "NA      15582065.0\n",
              "SA      29472882.0\n",
              "SEA     25244653.0\n",
              "Name: Earnings, dtype: float64"
            ]
          },
          "metadata": {},
          "execution_count": 74
        }
      ]
    },
    {
      "cell_type": "code",
      "source": [
        "fig, ax = plt.subplots()\n",
        "fig.set_size_inches(12,8)\n",
        "\n",
        "x = region_team_earnings.index\n",
        "y = region_team_earnings / 1000000\n",
        "\n",
        "plt.xlabel(\"Region\")\n",
        "plt.ylabel(\"Earnings (in Million USD)\")\n",
        "plt.title(\"Total Earnings by Region Using Team Data\")\n",
        "\n",
        "ax.bar(x, y)\n",
        "\n",
        "plt.show()"
      ],
      "metadata": {
        "colab": {
          "base_uri": "https://localhost:8080/",
          "height": 518
        },
        "id": "xUMJlTMCeJko",
        "outputId": "ce9cceec-7101-472e-da75-2a1f8f43a057"
      },
      "execution_count": null,
      "outputs": [
        {
          "output_type": "display_data",
          "data": {
            "text/plain": [
              "<Figure size 864x576 with 1 Axes>"
            ],
            "image/png": "[encoded data removed]"
          },
          "metadata": {}
        }
      ]
    },
    {
      "cell_type": "markdown",
      "source": [
        "Knowing the regions' ranking when it comes to winning and performing well in tournaments. The results for CIS, North America, South America, and South East Asia here aren't surprising.\n",
        "\n",
        "However, While China undisputedly comes first in the previous section, Europe beats China by a wide margin when it comes to prize pool earnings. Why is this the case? To answer this question, we need to investigate which region has won the most The Internationals, an annual tier 1 event that features the largest prize pools in any Esports.\n",
        "\n"
      ],
      "metadata": {
        "id": "Cef_MUuDkmn2"
      }
    },
    {
      "cell_type": "markdown",
      "source": [
        "### Question 6: What region has won the most The Internationals?"
      ],
      "metadata": {
        "id": "CXtfu_U8oMil"
      }
    },
    {
      "cell_type": "code",
      "source": [
        "# Extract data of TIs into a new data frame\n",
        "TI = tour_results[tour_results[\"Tournament\"].str.contains(\"The International\")].copy()"
      ],
      "metadata": {
        "id": "uESE7CyFT8j_"
      },
      "execution_count": null,
      "outputs": []
    },
    {
      "cell_type": "code",
      "source": [
        "TI_winner = TI.groupby(\"Winner_region\").count()[\"Winner\"]"
      ],
      "metadata": {
        "id": "Vgubb5YrVEJ4"
      },
      "execution_count": null,
      "outputs": []
    },
    {
      "cell_type": "code",
      "source": [
        "print(\"Number of The Internationals won by region: \\n\")\n",
        "TI_winner"
      ],
      "metadata": {
        "colab": {
          "base_uri": "https://localhost:8080/"
        },
        "id": "8eKsiECiVeoB",
        "outputId": "74920042-c292-4c66-a7be-15cffc148435"
      },
      "execution_count": null,
      "outputs": [
        {
          "output_type": "stream",
          "name": "stdout",
          "text": [
            "Number of The Internationals won by region: \n",
            "\n"
          ]
        },
        {
          "output_type": "execute_result",
          "data": {
            "text/plain": [
              "Winner_region\n",
              "CIS    2\n",
              "CN     3\n",
              "EU     5\n",
              "SA     1\n",
              "Name: Winner, dtype: int64"
            ]
          },
          "metadata": {},
          "execution_count": 78
        }
      ]
    },
    {
      "cell_type": "code",
      "source": [
        "fig, ax = plt.subplots()\n",
        "fig.set_size_inches(12,8)\n",
        "\n",
        "x = TI_winner.index\n",
        "y = TI_winner\n",
        "\n",
        "plt.xlabel(\"Region\")\n",
        "plt.ylabel(\"Count\")\n",
        "plt.title(\"Number of The Internationals won by region\")\n",
        "\n",
        "ax.bar(x, y)\n",
        "\n",
        "plt.show()"
      ],
      "metadata": {
        "colab": {
          "base_uri": "https://localhost:8080/",
          "height": 518
        },
        "id": "e_K3gAdsVoFZ",
        "outputId": "b0050cfd-47e5-42fe-9493-3ae514890f63"
      },
      "execution_count": null,
      "outputs": [
        {
          "output_type": "display_data",
          "data": {
            "text/plain": [
              "<Figure size 864x576 with 1 Axes>"
            ],
            "image/png": "[encoded data removed]"
          },
          "metadata": {}
        }
      ]
    },
    {
      "cell_type": "code",
      "source": [
        "# Add column year to TI data\n",
        "year = np.append(np.arange(2011, 2020), [2021,2022])\n",
        "year = np.flip(year)\n",
        "TI[\"Year\"] = year"
      ],
      "metadata": {
        "id": "XB5NyIAEYi-p"
      },
      "execution_count": null,
      "outputs": []
    },
    {
      "cell_type": "code",
      "source": [
        "# Add column prize to TI data (contains prize pool for each TI)\n",
        "prize = [18930775, 40018195, 34330068, 25532177, 24787916, 20770460, 18429613, 10923977, 2874380, 1600000, 1600000]\n",
        "TI[\"Prize\"] = prize"
      ],
      "metadata": {
        "id": "P8NlMrsJbKbk"
      },
      "execution_count": null,
      "outputs": []
    },
    {
      "cell_type": "code",
      "source": [
        "fig, ax = plt.subplots()\n",
        "fig.set_size_inches(12,8)\n",
        "\n",
        "x = TI[\"Year\"]\n",
        "y = TI[\"Prize\"] / 1000000\n",
        "\n",
        "plt.xlabel(\"Year\")\n",
        "plt.ylabel(\"Prize Pool (in Million USD)\")\n",
        "plt.title(\"Prize Pools of Past The Internationals\")\n",
        "\n",
        "plt.xticks(x)\n",
        "\n",
        "ax.plot(x, y)\n",
        "\n",
        "plt.show()"
      ],
      "metadata": {
        "colab": {
          "base_uri": "https://localhost:8080/",
          "height": 518
        },
        "id": "L_n8-q1raah3",
        "outputId": "b78c5aab-3833-4487-e6dc-d31cd7772ad3"
      },
      "execution_count": null,
      "outputs": [
        {
          "output_type": "display_data",
          "data": {
            "text/plain": [
              "<Figure size 864x576 with 1 Axes>"
            ],
            "image/png": "[encoded data removed]"
          },
          "metadata": {}
        }
      ]
    },
    {
      "cell_type": "markdown",
      "source": [
        "**NOTE**\n",
        "\n",
        "There is a gap between 2019 and 2021 because The International was canceled in 2020 due to COVID."
      ],
      "metadata": {
        "id": "6aaezeEqc6Zh"
      }
    },
    {
      "cell_type": "code",
      "source": [
        "print(\"The winning region of past TIs:\\n\")\n",
        "TI[[\"Tournament\", \"Winner_region\"]]"
      ],
      "metadata": {
        "colab": {
          "base_uri": "https://localhost:8080/",
          "height": 429
        },
        "id": "45zvGrMMdRnH",
        "outputId": "2dc394a3-a6c7-491f-8997-0c147a173eed"
      },
      "execution_count": null,
      "outputs": [
        {
          "output_type": "stream",
          "name": "stdout",
          "text": [
            "The winning region of past TIs:\n",
            "\n"
          ]
        },
        {
          "output_type": "execute_result",
          "data": {
            "text/plain": [
              "                 Tournament Winner_region\n",
              "1    The International 2022            EU\n",
              "7    The International 2021           CIS\n",
              "19   The International 2019            EU\n",
              "26   The International 2018            EU\n",
              "38   The International 2017            EU\n",
              "58   The International 2016            CN\n",
              "79   The International 2015            SA\n",
              "107  The International 2014            CN\n",
              "135  The International 2013            EU\n",
              "163  The International 2012            CN\n",
              "174  The International 2011           CIS"
            ],
            "text/html": [
              "\n",
              "  <div id=\"df-a631b100-be10-49dd-8f13-12e40dcbb221\">\n",
              "    <div class=\"colab-df-container\">\n",
              "      <div>\n",
              "<style scoped>\n",
              "    .dataframe tbody tr th:only-of-type {\n",
              "        vertical-align: middle;\n",
              "    }\n",
              "\n",
              "    .dataframe tbody tr th {\n",
              "        vertical-align: top;\n",
              "    }\n",
              "\n",
              "    .dataframe thead th {\n",
              "        text-align: right;\n",
              "    }\n",
              "</style>\n",
              "<table border=\"1\" class=\"dataframe\">\n",
              "  <thead>\n",
              "    <tr style=\"text-align: right;\">\n",
              "      <th></th>\n",
              "      <th>Tournament</th>\n",
              "      <th>Winner_region</th>\n",
              "    </tr>\n",
              "  </thead>\n",
              "  <tbody>\n",
              "    <tr>\n",
              "      <th>1</th>\n",
              "      <td>The International 2022</td>\n",
              "      <td>EU</td>\n",
              "    </tr>\n",
              "    <tr>\n",
              "      <th>7</th>\n",
              "      <td>The International 2021</td>\n",
              "      <td>CIS</td>\n",
              "    </tr>\n",
              "    <tr>\n",
              "      <th>19</th>\n",
              "      <td>The International 2019</td>\n",
              "      <td>EU</td>\n",
              "    </tr>\n",
              "    <tr>\n",
              "      <th>26</th>\n",
              "      <td>The International 2018</td>\n",
              "      <td>EU</td>\n",
              "    </tr>\n",
              "    <tr>\n",
              "      <th>38</th>\n",
              "      <td>The International 2017</td>\n",
              "      <td>EU</td>\n",
              "    </tr>\n",
              "    <tr>\n",
              "      <th>58</th>\n",
              "      <td>The International 2016</td>\n",
              "      <td>CN</td>\n",
              "    </tr>\n",
              "    <tr>\n",
              "      <th>79</th>\n",
              "      <td>The International 2015</td>\n",
              "      <td>SA</td>\n",
              "    </tr>\n",
              "    <tr>\n",
              "      <th>107</th>\n",
              "      <td>The International 2014</td>\n",
              "      <td>CN</td>\n",
              "    </tr>\n",
              "    <tr>\n",
              "      <th>135</th>\n",
              "      <td>The International 2013</td>\n",
              "      <td>EU</td>\n",
              "    </tr>\n",
              "    <tr>\n",
              "      <th>163</th>\n",
              "      <td>The International 2012</td>\n",
              "      <td>CN</td>\n",
              "    </tr>\n",
              "    <tr>\n",
              "      <th>174</th>\n",
              "      <td>The International 2011</td>\n",
              "      <td>CIS</td>\n",
              "    </tr>\n",
              "  </tbody>\n",
              "</table>\n",
              "</div>\n",
              "      <button class=\"colab-df-convert\" onclick=\"convertToInteractive('df-a631b100-be10-49dd-8f13-12e40dcbb221')\"\n",
              "              title=\"Convert this dataframe to an interactive table.\"\n",
              "              style=\"display:none;\">\n",
              "        \n",
              "  <svg xmlns=\"http://www.w3.org/2000/svg\" height=\"24px\"viewBox=\"0 0 24 24\"\n",
              "       width=\"24px\">\n",
              "    <path d=\"M0 0h24v24H0V0z\" fill=\"none\"/>\n",
              "    <path d=\"M18.56 5.44l.94 2.06.94-2.06 2.06-.94-2.06-.94-.94-2.06-.94 2.06-2.06.94zm-11 1L8.5 8.5l.94-2.06 2.06-.94-2.06-.94L8.5 2.5l-.94 2.06-2.06.94zm10 10l.94 2.06.94-2.06 2.06-.94-2.06-.94-.94-2.06-.94 2.06-2.06.94z\"/><path d=\"M17.41 7.96l-1.37-1.37c-.4-.4-.92-.59-1.43-.59-.52 0-1.04.2-1.43.59L10.3 9.45l-7.72 7.72c-.78.78-.78 2.05 0 2.83L4 21.41c.39.39.9.59 1.41.59.51 0 1.02-.2 1.41-.59l7.78-7.78 2.81-2.81c.8-.78.8-2.07 0-2.86zM5.41 20L4 18.59l7.72-7.72 1.47 1.35L5.41 20z\"/>\n",
              "  </svg>\n",
              "      </button>\n",
              "      \n",
              "  <style>\n",
              "    .colab-df-container {\n",
              "      display:flex;\n",
              "      flex-wrap:wrap;\n",
              "      gap: 12px;\n",
              "    }\n",
              "\n",
              "    .colab-df-convert {\n",
              "      background-color: #E8F0FE;\n",
              "      border: none;\n",
              "      border-radius: 50%;\n",
              "      cursor: pointer;\n",
              "      display: none;\n",
              "      fill: #1967D2;\n",
              "      height: 32px;\n",
              "      padding: 0 0 0 0;\n",
              "      width: 32px;\n",
              "    }\n",
              "\n",
              "    .colab-df-convert:hover {\n",
              "      background-color: #E2EBFA;\n",
              "      box-shadow: 0px 1px 2px rgba(60, 64, 67, 0.3), 0px 1px 3px 1px rgba(60, 64, 67, 0.15);\n",
              "      fill: #174EA6;\n",
              "    }\n",
              "\n",
              "    [theme=dark] .colab-df-convert {\n",
              "      background-color: #3B4455;\n",
              "      fill: #D2E3FC;\n",
              "    }\n",
              "\n",
              "    [theme=dark] .colab-df-convert:hover {\n",
              "      background-color: #434B5C;\n",
              "      box-shadow: 0px 1px 3px 1px rgba(0, 0, 0, 0.15);\n",
              "      filter: drop-shadow(0px 1px 2px rgba(0, 0, 0, 0.3));\n",
              "      fill: #FFFFFF;\n",
              "    }\n",
              "  </style>\n",
              "\n",
              "      <script>\n",
              "        const buttonEl =\n",
              "          document.querySelector('#df-a631b100-be10-49dd-8f13-12e40dcbb221 button.colab-df-convert');\n",
              "        buttonEl.style.display =\n",
              "          google.colab.kernel.accessAllowed ? 'block' : 'none';\n",
              "\n",
              "        async function convertToInteractive(key) {\n",
              "          const element = document.querySelector('#df-a631b100-be10-49dd-8f13-12e40dcbb221');\n",
              "          const dataTable =\n",
              "            await google.colab.kernel.invokeFunction('convertToInteractive',\n",
              "                                                     [key], {});\n",
              "          if (!dataTable) return;\n",
              "\n",
              "          const docLinkHtml = 'Like what you see? Visit the ' +\n",
              "            '<a target=\"_blank\" href=https://colab.research.google.com/notebooks/data_table.ipynb>data table notebook</a>'\n",
              "            + ' to learn more about interactive tables.';\n",
              "          element.innerHTML = '';\n",
              "          dataTable['output_type'] = 'display_data';\n",
              "          await google.colab.output.renderOutput(dataTable, element);\n",
              "          const docLink = document.createElement('div');\n",
              "          docLink.innerHTML = docLinkHtml;\n",
              "          element.appendChild(docLink);\n",
              "        }\n",
              "      </script>\n",
              "    </div>\n",
              "  </div>\n",
              "  "
            ]
          },
          "metadata": {},
          "execution_count": 83
        }
      ]
    },
    {
      "cell_type": "markdown",
      "source": [
        "Not only has Europe won the most The Internationals, but the region has also won the most recent ones. Since the prize pool increase yearly, except for 2022, it makes sense that Europe is in first place in terms of tournament earnings.\n",
        "\n"
      ],
      "metadata": {
        "id": "eVpqMjyleN6i"
      }
    },
    {
      "cell_type": "markdown",
      "source": [
        "\n",
        "### Conclusion 2\n",
        "From the above analyses, China and Europe currently tie for the best region in competitive Dota 2. China is the best when it comes to winning tournaments while Europe wins in terms of tournament earnings.\n",
        "\n",
        "Since winning The International is often regarded by professional players as a lifetime achievement, I will use the 2 regions' performance in past The Internationals as the tiebreaker. Since Europe has won the most The Internationals and is also the winner of 4 out of the 5 most recent TIs, it's reasonable to say that Europe is the best region when it comes to competitive Dota 2.\n"
      ],
      "metadata": {
        "id": "Pds0uAC5fueS"
      }
    },
    {
      "cell_type": "markdown",
      "source": [
        "### Bonus Question 1: What region has won the most prize money based on individual earnings?"
      ],
      "metadata": {
        "id": "IXMMQ9YB6X6A"
      }
    },
    {
      "cell_type": "markdown",
      "source": [
        "This section will be different. Dota 2 doesn't have specific guidelines on what countries belong to what region. For example, it's unclear where Australia or Middle Eastern countries belong regarding the 6 main regions used by competitive Dota (NA, SA, EU, CIS, SEA, and CN). As such, it's not possible to group players based on these main regions using their nationalities. Instead, players' earnings will be grouped using [the UN's list of countries in each region](https://en.wikipedia.org/wiki/List_of_countries_by_population_(United_Nations).\n",
        "\n",
        "Even though this question doesn't help answer my two main questions, it's still interesting because usually, teams don't consist of only players from the same region. For example, an organization based in Europe can recruit players from Asia. As such, by analyzing individual earnings, I can see if Europe (EU and CIS) and Asia (China and SEA) would still be in the top 2 when it comes to tournament earnings, or do organizations in these regions outsource talents from other regions.\n"
      ],
      "metadata": {
        "id": "OiOF4fG9oUVz"
      }
    },
    {
      "cell_type": "code",
      "source": [
        "# Get the list of each player's nationality\n",
        "countries = pd.read_csv(\"https://raw.githubusercontent.com/HaTruong05/CSV_data/main/Dota_2/flags.csv\", names=[\"Country\"])"
      ],
      "metadata": {
        "id": "pptGvD3C40wl"
      },
      "execution_count": null,
      "outputs": []
    },
    {
      "cell_type": "code",
      "source": [
        "countries[\"Country\"] = countries[\"Country\"].replace(\"Non-representing\", \"Russia\")"
      ],
      "metadata": {
        "id": "b1iYEN6c9B7A"
      },
      "execution_count": null,
      "outputs": []
    },
    {
      "cell_type": "markdown",
      "source": [
        "**NOTE**\n",
        "\n",
        "Due to the Russian invasion of Ukraine, several Russian players have asked Liquidpedia (my data source) to represent them as countryless. For the sake of my analysis, I will still count them as players from Russia."
      ],
      "metadata": {
        "id": "JsxMF2SW7-Zv"
      }
    },
    {
      "cell_type": "code",
      "source": [
        "# Add column containing nationality data to player_earnings\n",
        "player_earnings[\"Country\"] = countries[\"Country\"]"
      ],
      "metadata": {
        "id": "lPTmux9p8MFS"
      },
      "execution_count": null,
      "outputs": []
    },
    {
      "cell_type": "code",
      "source": [
        "row, col = player_earnings.shape\n",
        "print(f\"player_earnings has {row} rows and {col} columns\")"
      ],
      "metadata": {
        "id": "jmqnmsnJ8lXt",
        "colab": {
          "base_uri": "https://localhost:8080/"
        },
        "outputId": "2eb15930-b393-4c7a-afb7-69c5f0389ebc"
      },
      "execution_count": null,
      "outputs": [
        {
          "output_type": "stream",
          "name": "stdout",
          "text": [
            "player_earnings has 1368 rows and 8 columns\n"
          ]
        }
      ]
    },
    {
      "cell_type": "code",
      "source": [
        "player_earnings.isnull().any()"
      ],
      "metadata": {
        "colab": {
          "base_uri": "https://localhost:8080/"
        },
        "id": "1oKGEZQss1qV",
        "outputId": "c569ca7b-19e4-4acc-ffbf-1869c8f553b4"
      },
      "execution_count": null,
      "outputs": [
        {
          "output_type": "execute_result",
          "data": {
            "text/plain": [
              "ID               False\n",
              "1st_place        False\n",
              "2nd_place        False\n",
              "3rd_place        False\n",
              "Tier 1           False\n",
              "Earnings         False\n",
              "Earnings(mil)    False\n",
              "Country          False\n",
              "dtype: bool"
            ]
          },
          "metadata": {},
          "execution_count": 88
        }
      ]
    },
    {
      "cell_type": "code",
      "source": [
        "# Remove superscripts in the data using beautiful soup\n",
        "url = 'https://en.wikipedia.org/wiki/List_of_countries_by_population_(United_Nations)'\n",
        "\n",
        "soup = BeautifulSoup(requests.get(url).content, 'html.parser')\n",
        "\n",
        "# remove supercripts\n",
        "for sup in soup.select('sup'):\n",
        "    sup.extract()\n",
        "\n",
        "regions = pd.read_html(str(soup))[0]"
      ],
      "metadata": {
        "id": "O21VC6Uiv2UC"
      },
      "execution_count": null,
      "outputs": []
    },
    {
      "cell_type": "code",
      "source": [
        "# Drop unused column\n",
        "regions.drop([\"UN statisticalsubregion\", 'Population(1 July 2022)', 'Population(1 July 2023)', 'Change'], axis=1, inplace=True)"
      ],
      "metadata": {
        "id": "hPl0dwaUwRW_"
      },
      "execution_count": null,
      "outputs": []
    },
    {
      "cell_type": "code",
      "source": [
        "regions.rename(columns={'Country / Area': 'Country', 'UN continentalregion':'Region'}, inplace=True)"
      ],
      "metadata": {
        "id": "YiEBnr4AxGWh"
      },
      "execution_count": null,
      "outputs": []
    },
    {
      "cell_type": "code",
      "source": [
        "# Rename an entry so it matches the data in player_earnings\n",
        "regions[\"Country\"] = regions[\"Country\"].replace(\"Czechia\", \"Czech Republic\")"
      ],
      "metadata": {
        "id": "bc4JVUDH36xC"
      },
      "execution_count": null,
      "outputs": []
    },
    {
      "cell_type": "code",
      "source": [
        "# Replace Macau with China because Macau is technically part of China\n",
        "player_earnings[\"Country\"] = player_earnings[\"Country\"].replace(\"Macau\", \"China\")"
      ],
      "metadata": {
        "id": "X94PkJsn2GUo"
      },
      "execution_count": null,
      "outputs": []
    },
    {
      "cell_type": "code",
      "source": [
        "# Get the region of each player by merging 2 database\n",
        "player_earnings = pd.merge(player_earnings, regions, how=\"left\")"
      ],
      "metadata": {
        "id": "BkVYSdoA0sMF"
      },
      "execution_count": null,
      "outputs": []
    },
    {
      "cell_type": "code",
      "source": [
        "row, col = player_earnings.shape\n",
        "print(f\"player_earnings has {row} rows and {col} columns\")"
      ],
      "metadata": {
        "colab": {
          "base_uri": "https://localhost:8080/"
        },
        "id": "TZCxombz5-Rm",
        "outputId": "6823a3b7-bd0d-4b9e-a94e-ac2c3627df7c"
      },
      "execution_count": null,
      "outputs": [
        {
          "output_type": "stream",
          "name": "stdout",
          "text": [
            "player_earnings has 1368 rows and 9 columns\n"
          ]
        }
      ]
    },
    {
      "cell_type": "code",
      "source": [
        "player_earnings.isnull().any()"
      ],
      "metadata": {
        "colab": {
          "base_uri": "https://localhost:8080/"
        },
        "id": "tgK1sD1B35Xi",
        "outputId": "561dd60b-c217-415e-f414-18fb7a11b41d"
      },
      "execution_count": null,
      "outputs": [
        {
          "output_type": "execute_result",
          "data": {
            "text/plain": [
              "ID               False\n",
              "1st_place        False\n",
              "2nd_place        False\n",
              "3rd_place        False\n",
              "Tier 1           False\n",
              "Earnings         False\n",
              "Earnings(mil)    False\n",
              "Country          False\n",
              "Region           False\n",
              "dtype: bool"
            ]
          },
          "metadata": {},
          "execution_count": 96
        }
      ]
    },
    {
      "cell_type": "code",
      "source": [
        "region_indiv_earnings = player_earnings.groupby(\"Region\").sum()[\"Earnings\"]"
      ],
      "metadata": {
        "id": "qtbcw-xE2djt"
      },
      "execution_count": null,
      "outputs": []
    },
    {
      "cell_type": "code",
      "source": [
        "print(\"Total earnings by region using individual players' data: \\n\")\n",
        "region_indiv_earnings"
      ],
      "metadata": {
        "colab": {
          "base_uri": "https://localhost:8080/"
        },
        "id": "Fdxdj3J22qZP",
        "outputId": "c8ed9915-25a3-4efd-fb5a-1c3b6f998b1c"
      },
      "execution_count": null,
      "outputs": [
        {
          "output_type": "stream",
          "name": "stdout",
          "text": [
            "Total earnings by region using individual players' data: \n",
            "\n"
          ]
        },
        {
          "output_type": "execute_result",
          "data": {
            "text/plain": [
              "Region\n",
              "Africa          30910.0\n",
              "Americas     33452829.0\n",
              "Asia        139474942.0\n",
              "Europe      132466914.0\n",
              "Oceania       8078552.0\n",
              "Name: Earnings, dtype: float64"
            ]
          },
          "metadata": {},
          "execution_count": 98
        }
      ]
    },
    {
      "cell_type": "code",
      "source": [
        "fig, ax = plt.subplots()\n",
        "fig.set_size_inches(12,8)\n",
        "\n",
        "x = region_indiv_earnings.index\n",
        "y = region_indiv_earnings / 1000000\n",
        "\n",
        "plt.xlabel(\"Region\")\n",
        "plt.ylabel(\"Earnings (in million USD)\")\n",
        "plt.title(\"Total Earnings by Region Using Individual Players' Data\")\n",
        "\n",
        "ax.bar(x, y)\n",
        "\n",
        "plt.show()"
      ],
      "metadata": {
        "colab": {
          "base_uri": "https://localhost:8080/",
          "height": 518
        },
        "id": "NyZaT_PG-r0p",
        "outputId": "ccd89a00-74cb-4ad7-895d-4031464677d4"
      },
      "execution_count": null,
      "outputs": [
        {
          "output_type": "display_data",
          "data": {
            "text/plain": [
              "<Figure size 864x576 with 1 Axes>"
            ],
            "image/png": "[encoded data removed]"
          },
          "metadata": {}
        }
      ]
    },
    {
      "cell_type": "markdown",
      "source": [
        "When it comes to individual tournament earnings, Asia and Europe, which represent South East Asian, Chinese, CIS, and European players remain at the top. This confirms that the regions that are most successful in competitive Dota also have the best talents. Organizations do little to no outsourcing when it comes to recruiting their players.\n"
      ],
      "metadata": {
        "id": "CybK1Nkq5ZTu"
      }
    },
    {
      "cell_type": "markdown",
      "source": [
        "### Bonus Question 2: Does the pattern of tournament earnings I observe in question 3 occur in other Esports as well?"
      ],
      "metadata": {
        "id": "nmrMtN2M8qZC"
      }
    },
    {
      "cell_type": "markdown",
      "source": [
        "For this section, I will compare the tournament earnings from highest to lowest of Dota 2 professional players to League of Legends professional players to see if the same trend occurs. League of Legends is another extremely popular multiplayer online battle arena video game with an active Esports scene. The game shares many similarities with Dota 2 in terms of playstyles and objectives.\n"
      ],
      "metadata": {
        "id": "_7hwi-4o8w-G"
      }
    },
    {
      "cell_type": "code",
      "source": [
        "lol1 = pd.read_html(\"https://liquipedia.net/leagueoflegends/Portal:Statistics/Player_earnings\")[0]\n",
        "lol2 = pd.read_html(\"https://liquipedia.net/leagueoflegends/Special:Ask/-5B-5BConcept:Player-20earnings-5D-5D/-3FHas-20nationality/-3FHas-20earnings/-3FHas-20id/mainlabel%3D/limit%3D500/order%3Ddesc/sort%3Dhas-20earnings/offset%3D500/format%3Dtemplate/link%3Dnone/searchlabel%3D...-20further-20results/default%3DNo-20more-20players-20with-20earnings/template%3DPortal-20statistics-20player-20earnings-20table-2Ftotal-2Frow/userparam%3D/introtemplate%3DPortal-20statistics-20player-20earnings-20table-2Fintro/outrotemplate%3DPortal-20statistics-20player-20earnings-20table-2Foutro\")[0]\n",
        "lol3 = pd.read_html(\"https://liquipedia.net/leagueoflegends/index.php?title=Special:Ask&limit=500&offset=1000&q=%5B%5BConcept%3APlayer+earnings%5D%5D&p=mainlabel%3D%2Fformat%3Dtemplate%2Flink%3Dnone%2Fsearchlabel%3D...-20further-20results%2Fdefault%3DNo-20more-20players-20with-20earnings%2Ftemplate%3DPortal-20statistics-20player-20earnings-20table-2Ftotal-2Frow%2Fuserparam%3D%2Fintrotemplate%3DPortal-20statistics-20player-20earnings-20table-2Fintro%2Foutrotemplate%3DPortal-20statistics-20player-20earnings-20table-2Foutro&po=%3FHas+nationality%0A%3FHas+earnings%0A%3FHas+id%0A&sort=has+earnings&order=desc&eq=no#search\")[0]"
      ],
      "metadata": {
        "id": "QMgwSi9mk1bL"
      },
      "execution_count": null,
      "outputs": []
    },
    {
      "cell_type": "code",
      "source": [
        "# Combine 3 earnings data frames into one\n",
        "lol_earnings = pd.concat([lol1, lol2, lol3], ignore_index=True)"
      ],
      "metadata": {
        "id": "fjqJTD3z-eb0"
      },
      "execution_count": null,
      "outputs": []
    },
    {
      "cell_type": "code",
      "source": [
        "row, col = lol_earnings.shape\n",
        "print(f\"lol_earnings has {row} rows and {col} columns\")"
      ],
      "metadata": {
        "colab": {
          "base_uri": "https://localhost:8080/"
        },
        "id": "RFzh5tVi-r0c",
        "outputId": "5fa5ef32-e84c-4a5b-f9d5-c7a37db413c6"
      },
      "execution_count": null,
      "outputs": [
        {
          "output_type": "stream",
          "name": "stdout",
          "text": [
            "lol_earnings has 1500 rows and 8 columns\n"
          ]
        }
      ]
    },
    {
      "cell_type": "code",
      "source": [
        "# We only care about column earnings\n",
        "lol_earnings.isnull().any()"
      ],
      "metadata": {
        "colab": {
          "base_uri": "https://localhost:8080/"
        },
        "id": "A_w8KrrD_APW",
        "outputId": "a2a8ced9-61c0-48ca-9800-f66359f809d6"
      },
      "execution_count": null,
      "outputs": [
        {
          "output_type": "execute_result",
          "data": {
            "text/plain": [
              "Unnamed: 0    False\n",
              "Unnamed: 1     True\n",
              "ID            False\n",
              "Unnamed: 3    False\n",
              "Unnamed: 4    False\n",
              "Unnamed: 5    False\n",
              "S-Tier        False\n",
              "Earnings      False\n",
              "dtype: bool"
            ]
          },
          "metadata": {},
          "execution_count": 103
        }
      ]
    },
    {
      "cell_type": "code",
      "source": [
        "# Remove all non digit characters in earnings column with regex\n",
        "lol_earnings[\"Earnings\"].replace('\\D', '', regex=True, inplace=True)\n",
        "\n",
        "# Change data type of column earnings to type float\n",
        "lol_earnings[\"Earnings\"] = lol_earnings[\"Earnings\"].astype(float)"
      ],
      "metadata": {
        "id": "gQQbgv2-lhz8"
      },
      "execution_count": null,
      "outputs": []
    },
    {
      "cell_type": "code",
      "source": [
        "# Cut the data frame down to 1368 entries so it matches the length of the Dota data frame\n",
        "lol_earnings = lol_earnings[:1368]\n",
        "row, col = lol_earnings.shape\n",
        "print(f\"lol_earnings has {row} rows and {col} columns\")"
      ],
      "metadata": {
        "colab": {
          "base_uri": "https://localhost:8080/"
        },
        "id": "EsGwUPMh-LSY",
        "outputId": "4dee1db5-66c9-4411-d93a-96376928566c"
      },
      "execution_count": null,
      "outputs": [
        {
          "output_type": "stream",
          "name": "stdout",
          "text": [
            "lol_earnings has 1368 rows and 8 columns\n"
          ]
        }
      ]
    },
    {
      "cell_type": "code",
      "source": [
        "fig, (ax1, ax2) = plt.subplots(1, 2)\n",
        "fig.set_size_inches(20,8)\n",
        "\n",
        "ax1.plot(player_earnings.index, player_earnings['Earnings(mil)'])\n",
        "ax2.plot(lol_earnings.index, lol_earnings[\"Earnings\"] / 1000000)\n",
        "\n",
        "ax1.set_title(\"Dota 2\")\n",
        "ax2.set_title(\"League of Legends\")\n",
        "\n",
        "fig.suptitle(\"Tournament Earnings For Professional Players From Highest to Lowest\")\n",
        "fig.supxlabel(\"Ranking\")\n",
        "fig.supylabel(\"Earnings (in Million USD)\", x = 0.09)\n"
      ],
      "metadata": {
        "colab": {
          "base_uri": "https://localhost:8080/",
          "height": 607
        },
        "id": "QYGEwe93letD",
        "outputId": "22785274-7298-4fc8-cc69-175c5b8bde53"
      },
      "execution_count": null,
      "outputs": [
        {
          "output_type": "execute_result",
          "data": {
            "text/plain": [
              "Text(0.09, 0.5, 'Earnings (in Million USD)')"
            ]
          },
          "metadata": {},
          "execution_count": 106
        },
        {
          "output_type": "display_data",
          "data": {
            "text/plain": [
              "<Figure size 1440x576 with 2 Axes>"
            ],
            "image/png": "[encoded data removed]"
          },
          "metadata": {}
        }
      ]
    },
    {
      "cell_type": "markdown",
      "source": [
        "While the tournament earnings of professional players from the 2 games are not in the same range, it's interesting how the graph looks almost identical. Both graphs experience an abrupt drop around the top 100th earner. From this, we can conclude that, for the multiplayer online battle arena genre, all the money from the competitive scene goes to the top players, while the average professional player earns very little in terms of tournament earnings."
      ],
      "metadata": {
        "id": "AuBaPbcC_l3D"
      }
    },
    {
      "cell_type": "markdown",
      "source": [
        "## 4. Ethics Implications\n",
        "\n",
        "Since some of the data is not in table formatting, I had to web scrape them using Selenium, and I'm uncertain about the legality of scraping online data.\n",
        "\n",
        "For the analysis I did in question 1, I assigned the Russian flags to players born in Russia even though they don't want to be represented by the Russian flag. I also represented a player from Macau in the list as a Chinese player, even though Macau's a special administrative region without getting permission from the player."
      ],
      "metadata": {
        "id": "hFOY2PIe-fBE"
      }
    },
    {
      "cell_type": "markdown",
      "source": [
        "## 5. What I might explore next\n",
        "\n",
        "If I have the available data, I would like to use machine learning to predict which team is gonna win the next “The International.” To do this, I would need data on past teams that have won past TIs. I would need to track the performance of each player in those teams leading up to past TIs and compare it with the performance of current professional players leading up to the next TI.\n",
        "\n",
        "Even if I have access to all this Data, I'm not sure if it would be possible to train a machine-learning model because there have only been 11 TIs. This might be too small of a data pool for generating a good prediction."
      ],
      "metadata": {
        "id": "bTCo2IxZ-fQJ"
      }
    }
  ]
}